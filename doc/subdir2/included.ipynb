{
 "cells": [
  {
   "cell_type": "markdown",
   "metadata": {
    "nbsphinx": "hidden"
   },
   "source": [
    "This notebook is part of the `nbsphinx` documentation: http://nbsphinx.readthedocs.org/."
   ]
  },
  {
   "cell_type": "markdown",
   "metadata": {},
   "source": [
    "### An Included Notebook\n",
    "\n",
    "This notebook is included with the `nbinclude` directive.\n",
    "\n",
    "The cell below is stored unexecuted,\n",
    "but will be executed when included,\n",
    "just like notebooks included in a ``toctree``.\n",
    "Notebooks with at least one executed cell will not be executed when included\n",
    "(see [A Pre-Executed Notebook](../pre-executed.ipynb) for more details)."
   ]
  },
  {
   "cell_type": "code",
   "execution_count": null,
   "metadata": {
    "collapsed": false
   },
   "outputs": [],
   "source": [
    "6 * 7"
   ]
  },
  {
   "cell_type": "markdown",
   "metadata": {},
   "source": [
    "Local images work like notebooks in `toctree`s:\n",
    "![Jupyter notebook icon](../images/notebook_icon.png)"
   ]
  },
  {
   "cell_type": "code",
   "execution_count": null,
   "metadata": {
    "collapsed": false
   },
   "outputs": [],
   "source": [
    "from IPython.display import Image\n",
    "Image(filename='../images/notebook_icon.png')"
   ]
  },
  {
   "cell_type": "markdown",
   "metadata": {},
   "source": [
    "A link to a notebook in the parent directory: [link](../markdown-cells.ipynb).\n",
    "\n",
    "A link to a specific section in that notebook: [link](../markdown-cells.ipynb#Links-to-Other-Notebooks).\n",
    "\n",
    "A link to a local file: [link](../images/notebook_icon.png)."
   ]
  }
 ],
 "metadata": {
  "kernelspec": {
   "display_name": "Python 3",
   "language": "python",
   "name": "python3"
  },
  "language_info": {
   "codemirror_mode": {
    "name": "ipython",
    "version": 3
   },
   "file_extension": ".py",
   "mimetype": "text/x-python",
   "name": "python",
   "nbconvert_exporter": "python",
   "pygments_lexer": "ipython3",
   "version": "3.5.1+"
  }
 },
 "nbformat": 4,
 "nbformat_minor": 0
}
