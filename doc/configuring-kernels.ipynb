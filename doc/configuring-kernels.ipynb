{
 "cells": [
  {
   "cell_type": "markdown",
   "metadata": {},
   "source": [
    "# Configuring the kernels\n",
    "\n",
    "It is possible to pass values to the kernels by either modifying `os.environ` or passing command line options."
   ]
  },
  {
   "cell_type": "markdown",
   "metadata": {},
   "source": [
    "The contents of `os.environ` after the execution of `conf.py` will be passed as environment variables to the kernel. For example, if we want to compile the documentation without installing the project we can put this at the top of `conf.py` (`root` should point to the project's root):\n",
    "```python\n",
    "import os\n",
    "import sys\n",
    "\n",
    "root = os.path.abspath(\"..\")\n",
    "sys.path.insert(0, root)\n",
    "os.environ[\"PYTHONPATH\"] = root\n",
    "```"
   ]
  },
  {
   "cell_type": "markdown",
   "metadata": {},
   "source": [
    "We can also pass options to the kernel by setting [`nbsphinx_execute_arguments`](usage.ipynb#nbsphinx_execute_arguments) in `conf.py`. These work the same way as `ipython_kernel_config.py`. For example, using\n",
    "```python\n",
    "nbsphinx_execute_arguments = [\n",
    "    \"--InlineBackend.figure_formats={'svg', 'pdf'}\",\n",
    "    \"--InlineBackend.rc={'figure.dpi': 96}\",\n",
    "]\n",
    "```\n",
    "to set [plot options](code-cells.ipynb#Plots) is the same as writing:\n",
    "```python\n",
    "c.InlineBackend.figure_formats = {'svg', 'pdf'}\n",
    "c.InlineBackend.rc = {'figure.dpi': 96}\n",
    "```\n",
    "in `ipython_kernel_config.py`"
   ]
  }
 ],
 "metadata": {
  "kernelspec": {
   "display_name": "Python 3",
   "language": "python",
   "name": "python3"
  },
  "language_info": {
   "codemirror_mode": {
    "name": "ipython",
    "version": 3
   },
   "file_extension": ".py",
   "mimetype": "text/x-python",
   "name": "python",
   "nbconvert_exporter": "python",
   "pygments_lexer": "ipython3",
   "version": "3.7.3"
  }
 },
 "nbformat": 4,
 "nbformat_minor": 2
}
