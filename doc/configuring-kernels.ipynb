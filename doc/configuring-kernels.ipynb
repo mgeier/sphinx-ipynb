{
 "cells": [
  {
   "cell_type": "markdown",
   "metadata": {},
   "source": [
    "# Configuring the kernels\n",
    "\n",
    "It is possible to pass values to the kernels by either modifying `os.environ` or passing command line options.\n",
    "\n",
    "The contents of `os.environ` after the execution of `conf.py` will be passed as environment variables to the kernel. If we want to compile the documentation without installing the project, we can edit both `sys.path` and `os.environ`:"
   ]
  },
  {
   "cell_type": "code",
   "execution_count": null,
   "metadata": {},
   "outputs": [],
   "source": [
    "import os\n",
    "import sys\n",
    "\n",
    "root = os.path.abspath(\"..\")\n",
    "sys.path.insert(0, root)\n",
    "os.environ[\"PYTHONPATH\"] = root"
   ]
  },
  {
   "cell_type": "markdown",
   "metadata": {},
   "source": [
    "We can also pass [command line options](https://ipython.readthedocs.io/en/stable/interactive/magics.html#magic-config) to the kernel by setting [`nbsphinx_execute_arguments`](usage.ipynb#nbsphinx_execute_arguments) in `conf.py`. These work the same way as when starting the notebook server:"
   ]
  },
  {
   "cell_type": "code",
   "execution_count": null,
   "metadata": {},
   "outputs": [],
   "source": [
    "nbsphinx_execute_arguments = [\n",
    "    \"--InlineBackend.figure_formats={'svg', 'pdf'}\",\n",
    "    \"--InlineBackend.rc={'figure.dpi': 96}\",\n",
    "]"
   ]
  },
  {
   "cell_type": "markdown",
   "metadata": {},
   "source": [
    "is the same as running\n",
    "```bash\n",
    "python -m notebook --InlineBackend.figure_formats=\"{'svg', 'pdf'}\" --InlineBackend.rc=\"{'figure.dpi': 96}\"\n",
    "```"
   ]
  }
 ],
 "metadata": {
  "kernelspec": {
   "display_name": "Python 3",
   "language": "python",
   "name": "python3"
  },
  "language_info": {
   "codemirror_mode": {
    "name": "ipython",
    "version": 3
   },
   "file_extension": ".py",
   "mimetype": "text/x-python",
   "name": "python",
   "nbconvert_exporter": "python",
   "pygments_lexer": "ipython3",
   "version": "3.7.3"
  }
 },
 "nbformat": 4,
 "nbformat_minor": 2
}
