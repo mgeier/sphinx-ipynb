{
 "cells": [
  {
   "cell_type": "markdown",
   "metadata": {},
   "source": [
    "# Raw Cells\n",
    "\n",
    "The \"Raw NBConvert\" cell type can be used to render different code formats into HTML or LaTeX by Sphinx.  This information is stored in the notebook metadata and converted appropriately.  To select a desired format from within Jupyter, select the cell containing your special code and choose options from the following dropdown menus:  \n",
    "\n",
    "1. Select \"Raw NBConvert\"\n",
    "2. Switch the Cell Toolbar to \"Raw Cell Format\"\n",
    "3. Chose the appropriate \"Raw NBConvert Format\" within the cell"
   ]
  },
  {
   "cell_type": "markdown",
   "metadata": {},
   "source": [
    "![Steps for converting cells to Raw formats in Jupyter](images/raw_cells.png)"
   ]
  },
  {
   "cell_type": "markdown",
   "metadata": {},
   "source": [
    "The following examples are different Jupyter cell formats that are rendered by Sphinx."
   ]
  },
  {
   "cell_type": "markdown",
   "metadata": {},
   "source": [
    "## None"
   ]
  },
  {
   "cell_type": "markdown",
   "metadata": {},
   "source": [
    "By default (if no cell format is selected), the cell content is included (without any conversion) in both the HTML and LaTeX output.\n",
    "This is typically not useful at all."
   ]
  },
  {
   "cell_type": "raw",
   "metadata": {},
   "source": [
    "\"I'm a None cell\""
   ]
  },
  {
   "cell_type": "markdown",
   "metadata": {},
   "source": [
    "## reST"
   ]
  },
  {
   "cell_type": "markdown",
   "metadata": {},
   "source": [
    "Raw cells in \"reST\" format are interpreted as reStructuredText and parsed by Sphinx. The result is visible in both HTML and LaTeX output. "
   ]
  },
  {
   "cell_type": "raw",
   "metadata": {
    "raw_mimetype": "text/restructuredtext"
   },
   "source": [
    "\"**I'm** a reST_ *cell*.\"\n",
    "\n",
    ".. _reST: http://sphinx-doc.org/rest.html"
   ]
  },
  {
   "cell_type": "markdown",
   "metadata": {},
   "source": [
    "In addition, a raw cell formatted in reST can link to normal .rst files using \n",
    "\n",
    "    :doc:`rst_filename`  \n",
    "\n",
    "The latter code will render as a link to the appropriate .rst file.  See the following link for more information on linking between files."
   ]
  },
  {
   "cell_type": "raw",
   "metadata": {
    "raw_mimetype": "text/restructuredtext"
   },
   "source": [
    "\"I'm a notebook cell with a link to a .rst file called :doc:`rst`.\""
   ]
  },
  {
   "cell_type": "markdown",
   "metadata": {},
   "source": [
    "## Markdown"
   ]
  },
  {
   "cell_type": "markdown",
   "metadata": {},
   "source": [
    "Raw cells in \"Markdown\" format are interpreted as Markdown, and the result is included in both HTML and LaTeX output.  Since the Jupyter Notebook also supports normal Markdown cells, this might not be useful *at all*."
   ]
  },
  {
   "cell_type": "raw",
   "metadata": {
    "raw_mimetype": "text/markdown"
   },
   "source": [
    "\"**I'm** a [Markdown](https://daringfireball.net/projects/markdown/) *cell*.\""
   ]
  },
  {
   "cell_type": "markdown",
   "metadata": {},
   "source": [
    "## HTML"
   ]
  },
  {
   "cell_type": "markdown",
   "metadata": {},
   "source": [
    "Raw cells in \"HTML\" format are only visible in HTML output. This option might not be very useful, since raw HTML code is also allowed within normal Markdown cells."
   ]
  },
  {
   "cell_type": "raw",
   "metadata": {
    "raw_mimetype": "text/html"
   },
   "source": [
    "<p>&ldquo;<b>I&rsquo;m</b> an <a href=\"http://www.w3schools.com/tags/default.asp\">HTML</a> <em>cell</em>.&rdquo;</p>"
   ]
  },
  {
   "cell_type": "markdown",
   "metadata": {},
   "source": [
    "## Latex"
   ]
  },
  {
   "cell_type": "markdown",
   "metadata": {},
   "source": [
    "Raw cells in \"LaTeX\" format are only visible in LaTeX output."
   ]
  },
  {
   "cell_type": "raw",
   "metadata": {
    "raw_mimetype": "text/latex"
   },
   "source": [
    "\\textbf{I'm} a \\href{https://www.latex-project.org/}{\\LaTeX} \\textit{cell}."
   ]
  },
  {
   "cell_type": "markdown",
   "metadata": {},
   "source": [
    "## Python"
   ]
  },
  {
   "cell_type": "markdown",
   "metadata": {},
   "source": [
    "Raw cells in \"Python\" format are not visible at all (nor executed in any way)."
   ]
  },
  {
   "cell_type": "raw",
   "metadata": {
    "raw_mimetype": "text/x-python"
   },
   "source": [
    "print(\"I'm a raw Python cell!\")"
   ]
  }
 ],
 "metadata": {
  "celltoolbar": "Raw Cell Format",
  "kernelspec": {
   "display_name": "Python 3",
   "language": "python",
   "name": "python3"
  },
  "language_info": {
   "codemirror_mode": {
    "name": "ipython",
    "version": 3
   },
   "file_extension": ".py",
   "mimetype": "text/x-python",
   "name": "python",
   "nbconvert_exporter": "python",
   "pygments_lexer": "ipython3",
   "version": "3.3.5"
  }
 },
 "nbformat": 4,
 "nbformat_minor": 0
}
