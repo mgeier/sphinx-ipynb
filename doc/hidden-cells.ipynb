{
 "cells": [
  {
   "cell_type": "markdown",
   "metadata": {
    "nbsphinx": "hidden"
   },
   "source": [
    "This notebook is part of the `nbsphinx` documentation: https://nbsphinx.readthedocs.io/."
   ]
  },
  {
   "cell_type": "markdown",
   "metadata": {},
   "source": [
    "# Hidden Cells\n",
    "\n",
    "You can remove cells from the HTML/LaTeX output by adding this to the cell metadata:\n",
    "\n",
    "```\n",
    "\"nbsphinx\": \"hidden\"\n",
    "```\n",
    "\n",
    "Hidden cells are still executed but removed afterwards.\n",
    "\n",
    "For example, the following hidden cell defines the variable `answer`."
   ]
  },
  {
   "cell_type": "code",
   "execution_count": null,
   "metadata": {
    "nbsphinx": "hidden"
   },
   "outputs": [],
   "source": [
    "answer = 6 * 7"
   ]
  },
  {
   "cell_type": "markdown",
   "metadata": {},
   "source": [
    "This is the cell after the hidden cell.\n",
    "Although the previous cell is not visible, its result is still available:"
   ]
  },
  {
   "cell_type": "code",
   "execution_count": null,
   "metadata": {},
   "outputs": [],
   "source": [
    "answer"
   ]
  },
  {
   "cell_type": "markdown",
   "metadata": {},
   "source": [
    "Don't overuse this, because it may make it harder to follow what's going on in your notebook.\n",
    "\n",
    "Also Markdown cells can be hidden.\n",
    "The following cell is hidden."
   ]
  },
  {
   "cell_type": "markdown",
   "metadata": {
    "nbsphinx": "hidden"
   },
   "source": [
    "I am a *hidden* Markdown cell!"
   ]
  },
  {
   "cell_type": "markdown",
   "metadata": {},
   "source": [
    "This is the cell after the hidden cell."
   ]
  },
  {
   "cell_type": "markdown",
   "metadata": {},
   "source": [
    "# Toggling Cells\n",
    "\n",
    "You can make a cell toggle-able by adding \"hide_input\" to the cell metadata tags\n",
    "\n",
    "TODO: check how adding a tag is explained in other parts of doc"
   ]
  },
  {
   "cell_type": "code",
   "execution_count": 3,
   "metadata": {
    "tags": [
     "toggle_input"
    ]
   },
   "outputs": [],
   "source": [
    "1 + 14"
   ]
  },
  {
   "cell_type": "code",
   "execution_count": 4,
   "metadata": {
    "tags": [
     "hide_output"
    ]
   },
   "outputs": [
    {
     "name": "stdout",
     "output_type": "stream",
     "text": [
      "my output is hidden\n"
     ]
    }
   ],
   "source": [
    "print(\"my output is hidden\")"
   ]
  }
 ],
 "metadata": {
  "kernelspec": {
   "display_name": "Python 3",
   "language": "python",
   "name": "python3"
  },
  "language_info": {
   "codemirror_mode": {
    "name": "ipython",
    "version": 3
   },
   "file_extension": ".py",
   "mimetype": "text/x-python",
   "name": "python",
   "nbconvert_exporter": "python",
   "pygments_lexer": "ipython3",
   "version": "3.6.8"
  }
 },
 "nbformat": 4,
 "nbformat_minor": 4
}
